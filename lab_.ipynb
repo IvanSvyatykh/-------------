{
 "cells": [
  {
   "cell_type": "code",
   "execution_count": 26,
   "metadata": {},
   "outputs": [],
   "source": [
    "import pandas as pd\n",
    "import matplotlib.pyplot as plt\n",
    "import math\n",
    "import numpy as np\n",
    "from sklearn.linear_model import LinearRegression"
   ]
  },
  {
   "cell_type": "markdown",
   "metadata": {},
   "source": [
    "### Считаем данные из файла"
   ]
  },
  {
   "cell_type": "code",
   "execution_count": 27,
   "metadata": {},
   "outputs": [
    {
     "data": {
      "text/html": [
       "<div>\n",
       "<style scoped>\n",
       "    .dataframe tbody tr th:only-of-type {\n",
       "        vertical-align: middle;\n",
       "    }\n",
       "\n",
       "    .dataframe tbody tr th {\n",
       "        vertical-align: top;\n",
       "    }\n",
       "\n",
       "    .dataframe thead th {\n",
       "        text-align: right;\n",
       "    }\n",
       "</style>\n",
       "<table border=\"1\" class=\"dataframe\">\n",
       "  <thead>\n",
       "    <tr style=\"text-align: right;\">\n",
       "      <th></th>\n",
       "      <th>Площадь</th>\n",
       "      <th>Годовые продажи</th>\n",
       "    </tr>\n",
       "    <tr>\n",
       "      <th>Магазин</th>\n",
       "      <th></th>\n",
       "      <th></th>\n",
       "    </tr>\n",
       "  </thead>\n",
       "  <tbody>\n",
       "    <tr>\n",
       "      <th>1</th>\n",
       "      <td>1.7</td>\n",
       "      <td>3.7</td>\n",
       "    </tr>\n",
       "    <tr>\n",
       "      <th>2</th>\n",
       "      <td>1.6</td>\n",
       "      <td>3.9</td>\n",
       "    </tr>\n",
       "    <tr>\n",
       "      <th>3</th>\n",
       "      <td>2.8</td>\n",
       "      <td>6.7</td>\n",
       "    </tr>\n",
       "    <tr>\n",
       "      <th>4</th>\n",
       "      <td>5.6</td>\n",
       "      <td>9.5</td>\n",
       "    </tr>\n",
       "    <tr>\n",
       "      <th>5</th>\n",
       "      <td>1.3</td>\n",
       "      <td>3.4</td>\n",
       "    </tr>\n",
       "  </tbody>\n",
       "</table>\n",
       "</div>"
      ],
      "text/plain": [
       "         Площадь  Годовые продажи\n",
       "Магазин                          \n",
       "1            1.7              3.7\n",
       "2            1.6              3.9\n",
       "3            2.8              6.7\n",
       "4            5.6              9.5\n",
       "5            1.3              3.4"
      ]
     },
     "execution_count": 27,
     "metadata": {},
     "output_type": "execute_result"
    }
   ],
   "source": [
    "data = pd.read_csv(\"data/lab3/data.csv\", index_col=\"Магазин\")\n",
    "data.head()"
   ]
  },
  {
   "cell_type": "markdown",
   "metadata": {},
   "source": [
    "### №1 Построи поле корреляции."
   ]
  },
  {
   "cell_type": "code",
   "execution_count": 28,
   "metadata": {},
   "outputs": [
    {
     "data": {
      "text/plain": [
       "Text(0.5, 1.0, 'Поле корреляции')"
      ]
     },
     "execution_count": 28,
     "metadata": {},
     "output_type": "execute_result"
    },
    {
     "data": {
      "image/png": "[encoded data removed]",
      "text/plain": [
       "<Figure size 640x480 with 1 Axes>"
      ]
     },
     "metadata": {},
     "output_type": "display_data"
    }
   ],
   "source": [
    "plt.scatter(x=data[\"Площадь\"], y=data[\"Годовые продажи\"])\n",
    "plt.xlabel(\"Площадь\")\n",
    "plt.ylabel(\"Годовые продажи\")\n",
    "plt.title(\"Поле корреляции\")"
   ]
  },
  {
   "cell_type": "markdown",
   "metadata": {},
   "source": [
    "## №2  Рассчитайте параметры уравнений линейной, степенной, экспоненциальной, обратной, гиперболической парной регрессии."
   ]
  },
  {
   "cell_type": "code",
   "execution_count": 29,
   "metadata": {},
   "outputs": [
    {
     "data": {
      "text/html": [
       "<div>\n",
       "<style scoped>\n",
       "    .dataframe tbody tr th:only-of-type {\n",
       "        vertical-align: middle;\n",
       "    }\n",
       "\n",
       "    .dataframe tbody tr th {\n",
       "        vertical-align: top;\n",
       "    }\n",
       "\n",
       "    .dataframe thead th {\n",
       "        text-align: right;\n",
       "    }\n",
       "</style>\n",
       "<table border=\"1\" class=\"dataframe\">\n",
       "  <thead>\n",
       "    <tr style=\"text-align: right;\">\n",
       "      <th></th>\n",
       "      <th>Площадь</th>\n",
       "      <th>Годовые продажи</th>\n",
       "      <th>xy</th>\n",
       "      <th>x^2</th>\n",
       "      <th>y^2</th>\n",
       "    </tr>\n",
       "    <tr>\n",
       "      <th>Магазин</th>\n",
       "      <th></th>\n",
       "      <th></th>\n",
       "      <th></th>\n",
       "      <th></th>\n",
       "      <th></th>\n",
       "    </tr>\n",
       "  </thead>\n",
       "  <tbody>\n",
       "    <tr>\n",
       "      <th>1</th>\n",
       "      <td>1.7</td>\n",
       "      <td>3.7</td>\n",
       "      <td>6.29</td>\n",
       "      <td>2.89</td>\n",
       "      <td>13.69</td>\n",
       "    </tr>\n",
       "    <tr>\n",
       "      <th>2</th>\n",
       "      <td>1.6</td>\n",
       "      <td>3.9</td>\n",
       "      <td>6.24</td>\n",
       "      <td>2.56</td>\n",
       "      <td>15.21</td>\n",
       "    </tr>\n",
       "    <tr>\n",
       "      <th>3</th>\n",
       "      <td>2.8</td>\n",
       "      <td>6.7</td>\n",
       "      <td>18.76</td>\n",
       "      <td>7.84</td>\n",
       "      <td>44.89</td>\n",
       "    </tr>\n",
       "    <tr>\n",
       "      <th>4</th>\n",
       "      <td>5.6</td>\n",
       "      <td>9.5</td>\n",
       "      <td>53.20</td>\n",
       "      <td>31.36</td>\n",
       "      <td>90.25</td>\n",
       "    </tr>\n",
       "    <tr>\n",
       "      <th>5</th>\n",
       "      <td>1.3</td>\n",
       "      <td>3.4</td>\n",
       "      <td>4.42</td>\n",
       "      <td>1.69</td>\n",
       "      <td>11.56</td>\n",
       "    </tr>\n",
       "  </tbody>\n",
       "</table>\n",
       "</div>"
      ],
      "text/plain": [
       "         Площадь  Годовые продажи     xy    x^2    y^2\n",
       "Магазин                                               \n",
       "1            1.7              3.7   6.29   2.89  13.69\n",
       "2            1.6              3.9   6.24   2.56  15.21\n",
       "3            2.8              6.7  18.76   7.84  44.89\n",
       "4            5.6              9.5  53.20  31.36  90.25\n",
       "5            1.3              3.4   4.42   1.69  11.56"
      ]
     },
     "execution_count": 29,
     "metadata": {},
     "output_type": "execute_result"
    }
   ],
   "source": [
    "data[\"xy\"] = data[\"Годовые продажи\"] * data[\"Площадь\"]\n",
    "data[\"x^2\"] = data[\"Площадь\"] ** 2\n",
    "data[\"y^2\"] = data[\"Годовые продажи\"] ** 2\n",
    "data.head()"
   ]
  },
  {
   "cell_type": "code",
   "execution_count": 30,
   "metadata": {},
   "outputs": [
    {
     "name": "stdout",
     "output_type": "stream",
     "text": [
      "Среднее значение Площади : 2.9214285714285713\n",
      "Среднее значение Годовых продаж : 5.842857142857142\n",
      "Среднее по xy: 21.592857142857138\n",
      "Сренее по x^2: 11.243571428571428\n",
      "Размер выборки: 14\n"
     ]
    }
   ],
   "source": [
    "print(f\"Среднее значение Площади : {data[\"Площадь\"].mean()}\")\n",
    "print(f\"Среднее значение Годовых продаж : {data[\"Годовые продажи\"].mean()}\")\n",
    "print(f\"Среднее по xy: {data[\"xy\"].mean()}\")\n",
    "print(f\"Сренее по x^2: {data[\"x^2\"].mean()}\")\n",
    "print(f\"Размер выборки: {len(data)}\")"
   ]
  },
  {
   "cell_type": "markdown",
   "metadata": {},
   "source": [
    "### №3 Найдите значения выборочных дисперсий и средних квадратических отклонений"
   ]
  },
  {
   "cell_type": "code",
   "execution_count": 31,
   "metadata": {},
   "outputs": [
    {
     "name": "stdout",
     "output_type": "stream",
     "text": [
      "Средне выборочное отконение Площади: 1.6458513087798199\n",
      "Средне выборочное отконение Годовых продаж : 2.8903075184174463\n",
      "Выборочная дисперсия Площади: 2.708826530612246\n",
      "Выборочная дисперсия Годовых продаж : 8.353877551020418\n",
      "Значение средне выборочного отконения Площади через встроенную функцию : 1.7079806211423485\n",
      "Значение средне выборочного отконения Годовых продаж через встроенную функцию : 2.9994138621543236\n",
      "Значение выборочной дисперсия Площади через встроенную функцию : 2.9171978021978022\n",
      "Значение выборочной дисперсия Годовых продаж через встроенную функцию : 8.996483516483515\n"
     ]
    }
   ],
   "source": [
    "print(\n",
    "    f\"Средне выборочное отконение Площади: { math.sqrt(data[\"x^2\"].mean()-data[\"Площадь\"].mean()**2)}\"\n",
    ")\n",
    "std_x = math.sqrt(data[\"x^2\"].mean() - data[\"Площадь\"].mean() ** 2)\n",
    "print(\n",
    "    f\"Средне выборочное отконение Годовых продаж : {math.sqrt(data[\"y^2\"].mean()-data[\"Годовые продажи\"].mean()**2)}\"\n",
    ")\n",
    "std_y = math.sqrt(data[\"y^2\"].mean() - data[\"Годовые продажи\"].mean() ** 2)\n",
    "print(f\"Выборочная дисперсия Площади: {data[\"x^2\"].mean()-data[\"Площадь\"].mean()**2}\")\n",
    "print(\n",
    "    f\"Выборочная дисперсия Годовых продаж : {data[\"y^2\"].mean()-data[\"Годовые продажи\"].mean()**2}\"\n",
    ")\n",
    "print(\n",
    "    f\"Значение средне выборочного отконения Площади через встроенную функцию : {data[\"Площадь\"].std()}\"\n",
    ")\n",
    "print(\n",
    "    f\"Значение средне выборочного отконения Годовых продаж через встроенную функцию : {data[\"Годовые продажи\"].std()}\"\n",
    ")\n",
    "print(\n",
    "    f\"Значение выборочной дисперсия Площади через встроенную функцию : {data[\"Площадь\"].var()}\"\n",
    ")\n",
    "print(\n",
    "    f\"Значение выборочной дисперсия Годовых продаж через встроенную функцию : {data[\"Годовые продажи\"].var()}\"\n",
    ")"
   ]
  },
  {
   "cell_type": "markdown",
   "metadata": {},
   "source": [
    "### Найдите выборочный коэффициент ковариации"
   ]
  },
  {
   "cell_type": "code",
   "execution_count": 32,
   "metadata": {},
   "outputs": [
    {
     "name": "stdout",
     "output_type": "stream",
     "text": [
      "Коварация через встроенную функцию: 4.871318681318682\n",
      "Коварация 4.523367346938777\n"
     ]
    }
   ],
   "source": [
    "cov_x_y = data[\"xy\"].mean()-data[\"Годовые продажи\"].mean()*data[\"Площадь\"].mean()\n",
    "print(\n",
    "    f\"Коварация через встроенную функцию: {np.cov(data[\"Площадь\"], data[\"Годовые продажи\"])[0][1]}\"\n",
    ")\n",
    "print(\n",
    "    f\"Коварация {data[\"xy\"].mean()-data[\"Годовые продажи\"].mean()*data[\"Площадь\"].mean()}\"\n",
    ")"
   ]
  },
  {
   "cell_type": "markdown",
   "metadata": {},
   "source": [
    "## По исходным данным рассчитайте коэффициенты уравнения регрессии a и b"
   ]
  },
  {
   "cell_type": "code",
   "execution_count": 33,
   "metadata": {},
   "outputs": [
    {
     "name": "stdout",
     "output_type": "stream",
     "text": [
      "Коэффециент a : 0.9644736594277958\n",
      "Кэффециент b : 1.6698623170662799\n"
     ]
    }
   ],
   "source": [
    "b = (data[\"xy\"].mean() - data[\"Годовые продажи\"].mean() * data[\"Площадь\"].mean()) / (\n",
    "    data[\"x^2\"].mean() - data[\"Площадь\"].mean() ** 2\n",
    ")\n",
    "a = data[\"Годовые продажи\"].mean() - b * data[\"Площадь\"].mean()\n",
    "\n",
    "print(f\"Коэффециент a : {a}\")\n",
    "print(f\"Кэффециент b : {b}\")"
   ]
  },
  {
   "cell_type": "code",
   "execution_count": 34,
   "metadata": {},
   "outputs": [
    {
     "name": "stdout",
     "output_type": "stream",
     "text": [
      "Коэфиценты встроенной регрессии: [1.66986232 0.        ]\n"
     ]
    }
   ],
   "source": [
    "lin_reg = LinearRegression()\n",
    "X = pd.DataFrame(data[\"Площадь\"])\n",
    "X[\"free\"] = 1\n",
    "lin_reg.fit(X, data[\"Годовые продажи\"])\n",
    "print(f\"Коэфиценты встроенной регрессии: {lin_reg.coef_}\")"
   ]
  },
  {
   "cell_type": "markdown",
   "metadata": {},
   "source": [
    "### Вывод\n",
    "\n",
    "С увеличением площади магазина на 100 м^2, годовой доход вырастет на 166 у.е."
   ]
  },
  {
   "cell_type": "markdown",
   "metadata": {},
   "source": [
    "### №4 Оцените тесноту связи с помощью показателей корреляции и детерминации"
   ]
  },
  {
   "cell_type": "code",
   "execution_count": 35,
   "metadata": {},
   "outputs": [
    {
     "name": "stdout",
     "output_type": "stream",
     "text": [
      "Корреляция Площади и Годовых продаж: 0.9508832753998657\n"
     ]
    }
   ],
   "source": [
    "cor_x_y = cov_x_y / (std_x * std_y)\n",
    "print(f\"Корреляция Площади и Годовых продаж: {cor_x_y}\")"
   ]
  },
  {
   "cell_type": "markdown",
   "metadata": {},
   "source": [
    "По шкале Чеддока теснота связи: Весьма высокая."
   ]
  },
  {
   "cell_type": "code",
   "execution_count": 36,
   "metadata": {},
   "outputs": [],
   "source": [
    "def my_regression(x: np.float64) -> float:\n",
    "    return x * b + a"
   ]
  },
  {
   "cell_type": "code",
   "execution_count": 37,
   "metadata": {},
   "outputs": [
    {
     "name": "stdout",
     "output_type": "stream",
     "text": [
      "R^2: 0.9041790034351774\n",
      "Коэффициент корреляции в квадрате: 0.9041790034351769\n"
     ]
    }
   ],
   "source": [
    "r_square = sum(\n",
    "    (data[\"Площадь\"].apply(my_regression) - data[\"Годовые продажи\"].mean()) ** 2\n",
    ") / sum((data[\"Годовые продажи\"] - data[\"Годовые продажи\"].mean()) ** 2)\n",
    "print(f\"R^2: {r_square}\")\n",
    "print(f\"Коэффициент корреляции в квадрате: {cor_x_y**2}\")"
   ]
  },
  {
   "cell_type": "code",
   "execution_count": 38,
   "metadata": {},
   "outputs": [
    {
     "name": "stdout",
     "output_type": "stream",
     "text": [
      "Коэффициент корреляции через встроенные функции: 0.9508832753998661\n",
      "Коэффициент корреляции Пирсона через встроенную функцию: 0.9041790034351775 \n"
     ]
    }
   ],
   "source": [
    "print(\n",
    "    f\"Коэффициент корреляции через встроенные функции: {data.corr()[\"Площадь\"][\"Годовые продажи\"]}\"\n",
    ")\n",
    "print(\n",
    "    f\"Коэффициент корреляции Пирсона через встроенную функцию: {data.corr()[\"Площадь\"][\"Годовые продажи\"]**2} \"\n",
    ")"
   ]
  },
  {
   "cell_type": "markdown",
   "metadata": {},
   "source": [
    "### Вывод\n",
    "\n",
    "r = 0.9508832753998661-Связь весьма высокая, прямая. \n",
    "\n",
    "R^2 = 0.9041790034351774 - Вариация 90,42% \n"
   ]
  },
  {
   "cell_type": "markdown",
   "metadata": {},
   "source": [
    "### №5 Дайте с помощью коэффициента эластичности сравнительную оценку силы связи фактора с результатом"
   ]
  },
  {
   "cell_type": "code",
   "execution_count": 39,
   "metadata": {},
   "outputs": [
    {
     "name": "stdout",
     "output_type": "stream",
     "text": [
      "Коэфициент элластичности: 0.83493115853314\n"
     ]
    }
   ],
   "source": [
    "print(\n",
    "    f\"Коэфициент элластичности: {b*data[\"Площадь\"].mean()/data[\"Годовые продажи\"].mean()}\"\n",
    ")"
   ]
  },
  {
   "cell_type": "markdown",
   "metadata": {},
   "source": [
    "### Вывод \n",
    "Результат y в среднем по совокупности вырастет на 0.8349% от своей средней величины при изменении фактора x на 1% от своего среднего значения."
   ]
  },
  {
   "cell_type": "markdown",
   "metadata": {},
   "source": [
    "### №6 Качество модели определяет средняя ошибка аппроксимации"
   ]
  },
  {
   "cell_type": "code",
   "execution_count": 40,
   "metadata": {},
   "outputs": [],
   "source": [
    "data[\"y_counted\"] = data[\"Площадь\"].apply(my_regression)\n",
    "data[\"y-y_counted\"] = data[\"Годовые продажи\"] - data[\"y_counted\"]"
   ]
  },
  {
   "cell_type": "code",
   "execution_count": 41,
   "metadata": {},
   "outputs": [
    {
     "name": "stdout",
     "output_type": "stream",
     "text": [
      "Средняя ошибка аппроксимации: 13.664906476507197 %\n"
     ]
    }
   ],
   "source": [
    "mean_err_aproxim = (\n",
    "    sum(abs(data[\"y-y_counted\"] / data[\"Годовые продажи\"])) * 100 / len(data)\n",
    ")\n",
    "print(f\"Средняя ошибка аппроксимации: {mean_err_aproxim} %\")"
   ]
  },
  {
   "cell_type": "markdown",
   "metadata": {},
   "source": [
    "### Вывод\n",
    "\n",
    "Для парной линейной регрессии: . В среднем расчетные значения отклоняются от фактических на 13,665%. Качество построенной модели оценивается как среднее."
   ]
  },
  {
   "cell_type": "markdown",
   "metadata": {},
   "source": [
    "### №7 Оцените статистическую надежность результатов регрессионного моделирования с помощью F-критерия Фишера"
   ]
  },
  {
   "cell_type": "code",
   "execution_count": 42,
   "metadata": {},
   "outputs": [
    {
     "name": "stdout",
     "output_type": "stream",
     "text": [
      "F-критерий Фишера фактический: 113.23351280198847\n",
      "Теоретическое значение из таблицы: 244\n"
     ]
    }
   ],
   "source": [
    "F_fact = r_square * (len(data) - 2) / (1 - r_square)\n",
    "print(f\"F-критерий Фишера фактический: {F_fact}\")\n",
    "print(f\"Теоретическое значение из таблицы: 244\")"
   ]
  },
  {
   "cell_type": "markdown",
   "metadata": {},
   "source": [
    "### Вывод\n",
    "\n",
    "Так как F-теоретическое > F-fact гипотеза  не отклоняется и признается статистическая незначимость, ненадежность уравнений регрессии."
   ]
  },
  {
   "cell_type": "markdown",
   "metadata": {},
   "source": [
    "### №8 Оцените статистическую значимость коэффициентов регрессии на  уровне значимости a = 0,05"
   ]
  },
  {
   "cell_type": "code",
   "execution_count": 43,
   "metadata": {},
   "outputs": [],
   "source": [
    "data[\"(y-y_counted)^2\"] = data[\"y-y_counted\"] ** 2\n",
    "data[\"(x-x_mean)^2\"] = (data[\"Площадь\"] - data[\"Площадь\"].mean()) ** 2"
   ]
  },
  {
   "cell_type": "code",
   "execution_count": 46,
   "metadata": {},
   "outputs": [],
   "source": [
    "m_b = math.sqrt(\n",
    "    sum(data[\"(y-y_counted)^2\"]) / ((len(data) - 2) * sum(data[\"(x-x_mean)^2\"]))\n",
    ")\n",
    "m_a = math.sqrt(\n",
    "    sum(data[\"x^2\"] * data[\"(y-y_counted)^2\"] / data[\"(x-x_mean)^2\"])\n",
    "    / len(data)\n",
    "    * (len(data) - 2)\n",
    ")\n",
    "m_r = math.sqrt((1 - cor_x_y**2) / (len(data) - 2))"
   ]
  },
  {
   "cell_type": "code",
   "execution_count": 48,
   "metadata": {},
   "outputs": [
    {
     "name": "stdout",
     "output_type": "stream",
     "text": [
      "t_b: 10.641123662564434\n",
      "t_a: 0.013637523077392187\n",
      "t_r: 10.64112366256439\n"
     ]
    }
   ],
   "source": [
    "t_b = b / m_b\n",
    "t_a = a / m_a\n",
    "t_r = cor_x_y / m_r\n",
    "print(f\"t_b: {t_b}\")\n",
    "print(f\"t_a: {t_a}\")\n",
    "print(f\"t_r: {t_r}\")"
   ]
  },
  {
   "cell_type": "code",
   "execution_count": 63,
   "metadata": {},
   "outputs": [],
   "source": [
    "t_table = 1.782288"
   ]
  },
  {
   "cell_type": "markdown",
   "metadata": {},
   "source": [
    "### Вывод\n",
    "t_table > t_a-Следует H0 то  не отклоняется и признается случайная природа формирования a.\n",
    "\n",
    "t_table < t_b и t_table < t_r - то H0  отклоняется, т.е. b и rxy не случайно отличаются от нуля и сформировались под влиянием систематически действующего фактора x. \n"
   ]
  },
  {
   "cell_type": "markdown",
   "metadata": {},
   "source": [
    "### №9 Рассчитайте ожидаемое значение результата, если прогнозное значение фактора увеличится на 10% от его среднего уровня. Определите доверительный интервал прогноза для уровня значимости a = 0,05"
   ]
  },
  {
   "cell_type": "code",
   "execution_count": 58,
   "metadata": {},
   "outputs": [
    {
     "data": {
      "text/plain": [
       "np.float64(3.2135714285714285)"
      ]
     },
     "execution_count": 58,
     "metadata": {},
     "output_type": "execute_result"
    }
   ],
   "source": [
    "x_p = data[\"Площадь\"].mean() + 10 * data[\"Площадь\"].mean() / 100\n",
    "x_p"
   ]
  },
  {
   "cell_type": "code",
   "execution_count": 66,
   "metadata": {},
   "outputs": [
    {
     "data": {
      "text/plain": [
       "np.float64(6.330695491200077)"
      ]
     },
     "execution_count": 66,
     "metadata": {},
     "output_type": "execute_result"
    }
   ],
   "source": [
    "y_p = my_regression(x_p)\n",
    "y_p"
   ]
  },
  {
   "cell_type": "code",
   "execution_count": 53,
   "metadata": {},
   "outputs": [],
   "source": [
    "std_ost = math.sqrt(sum(data[\"(y-y_counted)^2\"]) / (len(data) - 1 - 1))"
   ]
  },
  {
   "cell_type": "code",
   "execution_count": 59,
   "metadata": {},
   "outputs": [
    {
     "data": {
      "text/plain": [
       "1.367435957597431"
      ]
     },
     "execution_count": 59,
     "metadata": {},
     "output_type": "execute_result"
    }
   ],
   "source": [
    "mean_std_err = std_ost * math.sqrt(\n",
    "    1 + 1 / 1 + (x_p - data[\"Площадь\"].mean()) ** 2 / sum(data[\"(x-x_mean)^2\"])\n",
    ")\n",
    "mean_std_err"
   ]
  },
  {
   "cell_type": "code",
   "execution_count": 64,
   "metadata": {},
   "outputs": [],
   "source": [
    "delta = t_table * mean_std_err"
   ]
  },
  {
   "cell_type": "code",
   "execution_count": 65,
   "metadata": {},
   "outputs": [
    {
     "name": "stdout",
     "output_type": "stream",
     "text": [
      "Доверительынй при уровне значимости 0,05: 3.893530793205666<y_p*<8.767860189194487\n"
     ]
    }
   ],
   "source": [
    "print(f\"Доверительный при уровне значимости 0,05: {y_p-delta}<y_p*<{y_p+delta}\")"
   ]
  },
  {
   "cell_type": "markdown",
   "metadata": {},
   "source": [
    "### Пояснительная записка\n",
    "\n",
    "- Исходя из корреляционного поля, можно сказать что между величинами \"Площадь\" и \"Годовой доход\" есть линейная зависимость.\n",
    "- Между величинами \"Площадь\" и \"Годовой доход\", есть линейная зависимость, так как коэфициент корреляции близок к 1\n",
    "- Линейная регрессия достаточно точно описывает поведение величин, так как ошибка апроксимации всего 13%\n",
    "- Доверительный интервал для прогназируемого значения со значимостью 0,05, позволяет предположить, что значение попадет в интервал 3.893530793205666 < y_p < 8,767860189194487"
   ]
  }
 ],
 "metadata": {
  "kernelspec": {
   "display_name": ".venv",
   "language": "python",
   "name": "python3"
  },
  "language_info": {
   "codemirror_mode": {
    "name": "ipython",
    "version": 3
   },
   "file_extension": ".py",
   "mimetype": "text/x-python",
   "name": "python",
   "nbconvert_exporter": "python",
   "pygments_lexer": "ipython3",
   "version": "3.12.3"
  }
 },
 "nbformat": 4,
 "nbformat_minor": 2
}
